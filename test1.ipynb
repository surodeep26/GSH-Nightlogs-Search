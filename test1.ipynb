{
 "cells": [
  {
   "cell_type": "code",
   "execution_count": 2,
   "metadata": {},
   "outputs": [
    {
     "name": "stdout",
     "output_type": "stream",
     "text": [
      "Year 2022 - Total number of observation dates: 125\n",
      "Year 2023 - Total number of observation dates: 97\n",
      "Year 2024 - Total number of observation dates: 40\n",
      "Year 2020 - Total number of observation dates: 123\n"
     ]
    },
    {
     "data": {
      "text/html": [
       "<div><i>Table length=10</i>\n",
       "<table id=\"table126469476337872\" class=\"table-striped table-bordered table-condensed\">\n",
       "<thead><tr><th>Celestial Object</th><th>Observations</th><th>Dates</th><th>FLECHAS</th><th>STK</th><th>CTK-II</th><th>Match Score</th><th>RTK</th></tr></thead>\n",
       "<thead><tr><th>str15</th><th>int64</th><th>str2190</th><th>int64</th><th>int64</th><th>int64</th><th>float64</th><th>int64</th></tr></thead>\n",
       "<tr><td>TYC3997-1510-1</td><td>2</td><td>FLECHAS: 24_04_22, 24_04_29</td><td>2</td><td>--</td><td>0</td><td>97.0</td><td>--</td></tr>\n",
       "<tr><td>PK112-10.1</td><td>1</td><td>STK: 22_06_14</td><td>0</td><td>1</td><td>0</td><td>86.0</td><td>--</td></tr>\n",
       "<tr><td>PK47+42.1</td><td>1</td><td>STK: 22_06_10</td><td>0</td><td>1</td><td>0</td><td>86.0</td><td>--</td></tr>\n",
       "<tr><td>PK102-5.1</td><td>1</td><td>STK: 22_06_14</td><td>0</td><td>1</td><td>0</td><td>86.0</td><td>--</td></tr>\n",
       "<tr><td>M101</td><td>4</td><td>STK: 23_06_02, 23_06_03, 23_06_04, FLECHAS: 23_06_12</td><td>1</td><td>3</td><td>0</td><td>68.0</td><td>0</td></tr>\n",
       "<tr><td>TYC733-1166-1</td><td>2</td><td>FLECHAS: 24_02_29, 24_03_08</td><td>2</td><td>--</td><td>0</td><td>64.0</td><td>--</td></tr>\n",
       "<tr><td>F10</td><td>1</td><td>STK: 22_07_18</td><td>0</td><td>1</td><td>0</td><td>60.0</td><td>--</td></tr>\n",
       "<tr><td>F11</td><td>1</td><td>STK: 22_07_18</td><td>0</td><td>1</td><td>0</td><td>57.0</td><td>--</td></tr>\n",
       "<tr><td>TYC360821611</td><td>1</td><td>FLECHAS: 23_08_11</td><td>1</td><td>0</td><td>0</td><td>52.0</td><td>0</td></tr>\n",
       "<tr><td>V398910</td><td>1</td><td>FLECHAS: 23_02_07</td><td>1</td><td>0</td><td>0</td><td>51.0</td><td>0</td></tr>\n",
       "</table></div>"
      ],
      "text/plain": [
       "<Table length=10>\n",
       "Celestial Object Observations ... Match Score  RTK \n",
       "     str15          int64     ...   float64   int64\n",
       "---------------- ------------ ... ----------- -----\n",
       "  TYC3997-1510-1            2 ...        97.0    --\n",
       "      PK112-10.1            1 ...        86.0    --\n",
       "       PK47+42.1            1 ...        86.0    --\n",
       "       PK102-5.1            1 ...        86.0    --\n",
       "            M101            4 ...        68.0     0\n",
       "   TYC733-1166-1            2 ...        64.0    --\n",
       "             F10            1 ...        60.0    --\n",
       "             F11            1 ...        57.0    --\n",
       "    TYC360821611            1 ...        52.0     0\n",
       "         V398910            1 ...        51.0     0"
      ]
     },
     "execution_count": 2,
     "metadata": {},
     "output_type": "execute_result"
    }
   ],
   "source": [
    "from searchNightlogs import *\n",
    "\n",
    "# Example usage:\n",
    "object_name = \"tyc 3997 1510 1\"\n",
    "years = [2022, 2023, 2024, 2020]\n",
    "matched_rows = findObject(object_name, years)\n",
    "matched_rows"
   ]
  }
 ],
 "metadata": {
  "kernelspec": {
   "display_name": "Python 3",
   "language": "python",
   "name": "python3"
  },
  "language_info": {
   "codemirror_mode": {
    "name": "ipython",
    "version": 3
   },
   "file_extension": ".py",
   "mimetype": "text/x-python",
   "name": "python",
   "nbconvert_exporter": "python",
   "pygments_lexer": "ipython3",
   "version": "3.11.6"
  }
 },
 "nbformat": 4,
 "nbformat_minor": 2
}
